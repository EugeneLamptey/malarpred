{
 "cells": [
  {
   "cell_type": "code",
   "execution_count": null,
   "id": "970e56e6",
   "metadata": {},
   "outputs": [],
   "source": [
    "import pandas as pd\n",
    "import numpy as np\n",
    "\n",
    "df = pd.read_csv('dataset.csv')\n",
    "df"
   ]
  },
  {
   "cell_type": "code",
   "execution_count": null,
   "id": "3e8a35d6",
   "metadata": {},
   "outputs": [],
   "source": [
    "from rdkit import Chem\n",
    "from rdkit.Chem import AllChem\n",
    "\n",
    "smiles_list = df['PUBCHEM_EXT_DATASOURCE_SMILES'].tolist() \n",
    "mols = [Chem.MolFromSmiles(smi) for smi in smiles_list]"
   ]
  },
  {
   "cell_type": "code",
   "execution_count": null,
   "id": "4dca652d",
   "metadata": {},
   "outputs": [],
   "source": [
    "def morgan_fps(data):\n",
    "    fps = [AllChem.GetMorganFingerprintAsBitVect(mol, radius=2, nBits=2048) for mol in data]\n",
    "    fp_array = [np.array(fp) for fp in fps]  \n",
    "    column_names = [\"morgan_\" + str(i) for i in range(2048)]  \n",
    "    return pd.DataFrame(fp_array, columns=column_names)\n",
    "\n",
    "X = morgan_fps(mols)\n",
    "X"
   ]
  },
  {
   "cell_type": "code",
   "execution_count": null,
   "id": "c4e67bfe",
   "metadata": {},
   "outputs": [],
   "source": [
    "y = df[\"PUBCHEM_ACTIVITY_OUTCOME\"]\n",
    "y"
   ]
  },
  {
   "cell_type": "code",
   "execution_count": null,
   "id": "ea9a6bf4",
   "metadata": {},
   "outputs": [],
   "source": [
    "from sklearn.model_selection import train_test_split\n",
    "from sklearn.metrics import accuracy_score\n",
    "\n",
    "X_train, X_test, y_train, y_test = train_test_split(X, y, test_size = 0.2, random_state = 18)\n",
    "X_train\n"
   ]
  },
  {
   "cell_type": "code",
   "execution_count": null,
   "id": "b7f551a9",
   "metadata": {},
   "outputs": [],
   "source": [
    "from imblearn.over_sampling import SMOTE\n",
    "\n",
    "# assuming X_train and y_train are your training features and labels\n",
    "\n",
    "smote = SMOTE(sampling_strategy='minority',random_state = 9)\n",
    "\n",
    "X_sm, y_sm = smote.fit_resample(X_train, y_train)\n"
   ]
  },
  {
   "cell_type": "code",
   "execution_count": null,
   "id": "49569f41",
   "metadata": {},
   "outputs": [],
   "source": [
    "from catboost import CatBoostClassifier\n",
    "\n",
    "catboost = CatBoostClassifier(\n",
    "    iterations=185,            \n",
    "    depth=5,                   \n",
    "    learning_rate=0.1,         \n",
    "    random_seed=2,             \n",
    "    verbose=0,                 \n",
    "    loss_function='Logloss',   \n",
    ")\n",
    "\n",
    "catboost.fit(X_sm, y_sm)\n",
    "\n",
    "preds = catboost.predict(X_test)\n",
    "proba = catboost.predict_proba(X_test)"
   ]
  },
  {
   "cell_type": "code",
   "execution_count": null,
   "id": "686521e9",
   "metadata": {},
   "outputs": [],
   "source": [
    "from sklearn.metrics import matthews_corrcoef\n",
    "from sklearn.metrics import confusion_matrix\n",
    "from sklearn.metrics import f1_score\n",
    "from sklearn.metrics import precision_score\n",
    "from sklearn.metrics import roc_auc_score\n",
    "\n",
    "tn, fp, fn, tp = confusion_matrix(y_test, preds).ravel()\n",
    "sensitivity = tp / (tp + fn)\n",
    "specificity = tn / (tn + fp)\n",
    "accuracy = (tn + tp) / (tn+tp+fn+fp)\n",
    "balanced_accuracy = (sensitivity + specificity) / 2\n",
    "precision = tp / (tp + fp)\n",
    "f1 = 2 * (precision * sensitivity) / (precision + sensitivity)\n",
    "roc_auc = roc_auc_score(y_test, proba[:, 1]) \n",
    "\n",
    "\n",
    "print(f\"sensitivity: {sensitivity}, specificity: {specificity}, precision: {precision}, f1: {f1} accuracy: {accuracy}, roc_auc: {roc_auc} \\nbalanced_accuracy: {balanced_accuracy}\")"
   ]
  },
  {
   "cell_type": "code",
   "execution_count": null,
   "id": "e893bf7e",
   "metadata": {},
   "outputs": [],
   "source": [
    "from sklearn.model_selection import GridSearchCV, StratifiedKFold\n",
    "from catboost import CatBoostClassifier\n",
    "import numpy as np\n",
    "\n",
    "param_grid = {\n",
    "    'iterations': np.linspace(50, 300, num=5, dtype=int).tolist(),  # Range of iterations\n",
    "    'depth': [3, 5, 7, 10],  # Range of tree depths\n",
    "    'learning_rate': np.linspace(0.01, 0.3, num=5).tolist()  # Range of learning rates\n",
    "}\n",
    "\n",
    "cv = StratifiedKFold(n_splits=10, shuffle=True, random_state=2)\n",
    "\n",
    "grid_search = GridSearchCV(\n",
    "    estimator=CatBoostClassifier(random_seed=2, verbose=0, loss_function='Logloss'),\n",
    "    param_grid=param_grid,\n",
    "    scoring='accuracy',  \n",
    "    cv=cv,  \n",
    "    n_jobs=-1,  \n",
    "    verbose=1  \n",
    ")\n",
    "\n",
    "grid_search.fit(X_sm, y_sm)\n",
    "\n",
    "print(\"Best parameters found using GridSearchCV:\")\n",
    "print(grid_search.best_params_)\n",
    "print()\n",
    "\n",
    "print(\"Best accuracy achieved:\")\n",
    "print(grid_search.best_score_)\n"
   ]
  },
  {
   "cell_type": "code",
   "execution_count": null,
   "id": "f47cef04",
   "metadata": {},
   "outputs": [],
   "source": [
    "import pandas as pd\n",
    "import numpy as np\n",
    "dp= pd.read_csv('val_data.csv')\n",
    "dp"
   ]
  },
  {
   "cell_type": "code",
   "execution_count": null,
   "id": "e440684b",
   "metadata": {},
   "outputs": [],
   "source": [
    "valdata = dp.copy()\n",
    "colname = [\"PUBCHEM_EXT_DATASOURCE_SMILES\", \"PUBCHEM_ACTIVITY_OUTCOME\"]\n",
    "valdata = valdata[colname]\n",
    "\n",
    "valdata.drop_duplicates(inplace = True, ignore_index = True)\n",
    "valdata.reset_index(inplace = True, drop = True)\n",
    "valdata"
   ]
  },
  {
   "cell_type": "code",
   "execution_count": null,
   "id": "e7136e2e",
   "metadata": {},
   "outputs": [],
   "source": [
    "smi_list = valdata[\"PUBCHEM_EXT_DATASOURCE_SMILES\"].to_list()\n",
    "molsv = [Chem.MolFromSmiles(smi) for smi in smi_list]\n",
    "\n",
    "X_val = morgan_fps(molsv)\n",
    "X_val"
   ]
  },
  {
   "cell_type": "code",
   "execution_count": null,
   "id": "2b01482d",
   "metadata": {},
   "outputs": [],
   "source": [
    "y_val = valdata[\"PUBCHEM_ACTIVITY_OUTCOME\"]\n",
    "y_val"
   ]
  },
  {
   "cell_type": "code",
   "execution_count": null,
   "id": "6387b879",
   "metadata": {},
   "outputs": [],
   "source": [
    "y_valpred = catboost.predict(X_val)\n",
    "y_valproba = catboost.predict_proba(X_val)"
   ]
  },
  {
   "cell_type": "code",
   "execution_count": null,
   "id": "990e8f7f",
   "metadata": {
    "scrolled": false
   },
   "outputs": [],
   "source": [
    "from sklearn.metrics import confusion_matrix\n",
    "from sklearn.metrics import f1_score\n",
    "from sklearn.metrics import precision_score\n",
    "from sklearn.metrics import roc_auc_score\n",
    "\n",
    "tn, fp, fn, tp = confusion_matrix(y_val, y_valpred).ravel()\n",
    "sensitivity = tp / (tp + fn)\n",
    "specificity = tn / (tn + fp)\n",
    "accuracy = (tn + tp) / (tn+tp+fn+fp)\n",
    "balanced_accuracy = (sensitivity + specificity) / 2\n",
    "precision = tp / (tp + fp)\n",
    "f1 = 2 * (precision * sensitivity) / (precision + sensitivity)\n",
    "#roc_auc = roc_auc_score(y_val, y_valproba[:, 1]) # calculate ROC AUC\n",
    "\n",
    "print(f\"sensitivity: {sensitivity}, specificity: {specificity}, precision: {precision}, f1: {f1}, accuracy: {accuracy}, roc_auc: {roc_auc} \\nbalanced_accuracy: {balanced_accuracy}\")\n"
   ]
  },
  {
   "cell_type": "code",
   "execution_count": null,
   "id": "5cc26a2a",
   "metadata": {},
   "outputs": [],
   "source": [
    "y_val_randomized = np.random.permutation(y_val)\n",
    "y_val_randomized"
   ]
  },
  {
   "cell_type": "code",
   "execution_count": null,
   "id": "96512914",
   "metadata": {},
   "outputs": [],
   "source": [
    "y_valpred = catboost.predict(X_val)"
   ]
  },
  {
   "cell_type": "code",
   "execution_count": null,
   "id": "90a39cb0",
   "metadata": {},
   "outputs": [],
   "source": [
    "from skley_valpred = adaboost.predict(X_val)arn.metrics import confusion_matrix\n",
    "from sklearn.metrics import f1_score\n",
    "from sklearn.metrics import precision_score\n",
    "from sklearn.metrics import roc_auc_score\n",
    "\n",
    "tn, fp, fn, tp = confusion_matrix(y_val_randomized, y_valpred).ravel()\n",
    "sensitivity = tp / (tp + fn)\n",
    "specificity = tn / (tn + fp)\n",
    "accuracy = (tn + tp) / (tn+tp+fn+fp)\n",
    "balanced_accuracy = (sensitivity + specificity) / 2\n",
    "precision = tp / (tp + fp)\n",
    "f1 = 2 * (precision * sensitivity) / (precision + sensitivity)\n",
    "#roc_auc = roc_auc_score(y_val, y_valproba[:, 1]) # calculate ROC AUC\n",
    "\n",
    "print(f\"sensitivity: {sensitivity}, specificity: {specificity}, precision: {precision}, f1: {f1}, accuracy: {accuracy}, roc_auc: {roc_auc} \\nbalanced_accuracy: {balanced_accuracy}\")\n"
   ]
  },
  {
   "cell_type": "code",
   "execution_count": null,
   "id": "d0ee8ee1",
   "metadata": {},
   "outputs": [],
   "source": [
    "from imblearn.pipeline import Pipeline\n",
    "from sklearn.feature_selection import VarianceThreshold\n",
    "from imblearn.over_sampling import SMOTE\n",
    "from catboost import CatBoostClassifier\n",
    "from sklearn.base import BaseEstimator, TransformerMixin\n",
    "from scipy.spatial import distance\n",
    "import numpy as np\n",
    "\n",
    "catboost_pipeline = Pipeline([\n",
    "    (\"Smote\", SMOTE(sampling_strategy='minority', random_state=9)),\n",
    "    (\"model\", CatBoostClassifier(iterations=185, depth=5, random_seed=2, verbose=0))\n",
    "])\n"
   ]
  },
  {
   "cell_type": "code",
   "execution_count": null,
   "id": "af48cfdf",
   "metadata": {},
   "outputs": [],
   "source": [
    "catboost_pipeline.fit(X_train,y_train)"
   ]
  },
  {
   "cell_type": "code",
   "execution_count": null,
   "id": "449e10a1",
   "metadata": {},
   "outputs": [],
   "source": [
    "from sklearn.metrics import matthews_corrcoef\n",
    "from sklearn.metrics import confusion_matrix\n",
    "from sklearn.metrics import f1_score\n",
    "from sklearn.metrics import precision_score\n",
    "from sklearn.metrics import roc_auc_score\n",
    "\n",
    "tn, fp, fn, tp = confusion_matrix(y_test, preds).ravel()\n",
    "sensitivity = tp / (tp + fn)\n",
    "specificity = tn / (tn + fp)\n",
    "accuracy = (tn + tp) / (tn+tp+fn+fp)\n",
    "balanced_accuracy = (sensitivity + specificity) / 2\n",
    "precision = tp / (tp + fp)\n",
    "f1 = 2 * (precision * sensitivity) / (precision + sensitivity)\n",
    "\n",
    "print(f\"sensitivity: {sensitivity}, specificity: {specificity}, precision: {precision}, f1: {f1}, accuracy: {accuracy}, \\nbalanced_accuracy: {balanced_accuracy}\")\n"
   ]
  },
  {
   "cell_type": "code",
   "execution_count": null,
   "id": "72f5aeca",
   "metadata": {},
   "outputs": [],
   "source": [
    "import pickle\n",
    "with open('catboost_pipeline.pkl', 'wb') as file:\n",
    "    # Use pickle to dump the pipeline into the file\n",
    "    pickle.dump(catboost_pipeline, file)"
   ]
  },
  {
   "cell_type": "code",
   "execution_count": null,
   "id": "ebfb5ddf",
   "metadata": {},
   "outputs": [],
   "source": [
    "import pickle\n",
    "\n",
    "# Load the pipeline from the pickle file\n",
    "with open('catboost_pipeline.pkl', 'rb') as file:\n",
    "    catboost_pipeline = pickle.load(file)\n"
   ]
  },
  {
   "cell_type": "code",
   "execution_count": null,
   "id": "f2d3f590",
   "metadata": {},
   "outputs": [],
   "source": [
    "# Assuming X_test is your test dataset\n",
    "preds = catboost_pipeline.predict(X_test)         # For class predictions\n",
    "proba = catboost_pipeline.predict_proba(X_test)  # For probabilities\n",
    "\n",
    "print(\"Predictions:\", preds)\n",
    "print(\"Probabilities:\", proba)\n"
   ]
  }
 ],
 "metadata": {
  "kernelspec": {
   "display_name": "Python 3 (ipykernel)",
   "language": "python",
   "name": "python3"
  },
  "language_info": {
   "codemirror_mode": {
    "name": "ipython",
    "version": 3
   },
   "file_extension": ".py",
   "mimetype": "text/x-python",
   "name": "python",
   "nbconvert_exporter": "python",
   "pygments_lexer": "ipython3",
   "version": "3.10.12"
  }
 },
 "nbformat": 4,
 "nbformat_minor": 5
}
